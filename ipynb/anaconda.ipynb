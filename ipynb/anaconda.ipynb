{
 "cells": [
  {
   "cell_type": "markdown",
   "metadata": {
    "slideshow": {
     "slide_type": "slide"
    }
   },
   "source": [
    "# Configurando ambientes virtuais com a Anaconda\n",
    "<hr style=\"border:2px solid #0077b9;\">\n",
    "\n",
    "- Professores:\n",
    "  - Gilberto Ribeiro de Queiroz\n",
    "  - Thales Sehn Körting\n",
    "  - Eugênio Almeida\n",
    "- Colaboradoes:\n",
    "  - Vitor Gomes"
   ]
  },
  {
   "cell_type": "markdown",
   "metadata": {
    "slideshow": {
     "slide_type": "subslide"
    }
   },
   "source": [
    "## Atualize sua versão do conda\n",
    "<hr style=\"border:2px solid #0077b9;\">\n",
    "\n",
    "```bash\n",
    "conda update conda\n",
    "```"
   ]
  },
  {
   "cell_type": "markdown",
   "metadata": {
    "slideshow": {
     "slide_type": "subslide"
    }
   },
   "source": [
    "## Crie um ambiente virtual\n",
    "<hr style=\"border:2px solid #0077b9;\">\n",
    "\n",
    "Crie um ambiente virtual chamado `geospatial` para o Python 2.7:\n",
    "```bash\n",
    "conda create --name geospatial python=2.7\n",
    "```"
   ]
  },
  {
   "cell_type": "markdown",
   "metadata": {
    "slideshow": {
     "slide_type": "subslide"
    }
   },
   "source": [
    "## Ative um ambiente virtual\n",
    "<hr style=\"border:2px solid #0077b9;\">\n",
    "\n",
    "\n",
    "```bash\n",
    "source activate geospatial\n",
    "```"
   ]
  },
  {
   "cell_type": "markdown",
   "metadata": {
    "slideshow": {
     "slide_type": "subslide"
    }
   },
   "source": [
    "```bash\n",
    "conda install ipykernel nb_conda matplotlib scipy\n",
    "\n",
    "conda install -c damianavila82 rise\n",
    "\n",
    "python -m ipykernel install --user --name geospatial --display-name \"Python [geospatial]\"\n",
    "\n",
    "jupyter notebook\n",
    "```"
   ]
  }
 ],
 "metadata": {
  "celltoolbar": "Slideshow",
  "kernelspec": {
   "display_name": "Python [conda env:geospatial]",
   "language": "python",
   "name": "conda-env-geospatial-py"
  },
  "language_info": {
   "codemirror_mode": {
    "name": "ipython",
    "version": 2
   },
   "file_extension": ".py",
   "mimetype": "text/x-python",
   "name": "python",
   "nbconvert_exporter": "python",
   "pygments_lexer": "ipython2",
   "version": "2.7.13"
  }
 },
 "nbformat": 4,
 "nbformat_minor": 2
}
