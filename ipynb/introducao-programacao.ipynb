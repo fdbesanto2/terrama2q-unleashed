{
 "cells": [
  {
   "cell_type": "markdown",
   "metadata": {
    "slideshow": {
     "slide_type": "slide"
    }
   },
   "source": [
    "# Introdução à Programação em Python para a Plataforma TerraMA²-Q\n",
    "<hr style=\"border:2px solid #0077b9;\">\n",
    "\n",
    "- Gilberto Ribeiro de Queiroz\n",
    "- Fabiano Morelli\n",
    "- Eymar Lopes"
   ]
  },
  {
   "cell_type": "markdown",
   "metadata": {
    "slideshow": {
     "slide_type": "slide"
    }
   },
   "source": [
    "## Objetivos\n",
    "<hr style=\"border:2px solid #0077b9;\">\n",
    "\n",
    "- Fornecer uma **visão geral** da **linguagem [Python](https://www.python.org/)** para utilização na **Platafora TerraMA²-Q**.\n",
    "\n",
    "- Não iremos supor uma experiência prévia com programação de computadores.\n",
    "\n",
    "- Nosso enfoque será nos principais conceitos da linguagem Python que irão ser utilizados na criação de rotinas de análise de dados na plataforma TerraMA²-Q."
   ]
  },
  {
   "cell_type": "markdown",
   "metadata": {
    "slideshow": {
     "slide_type": "slide"
    }
   },
   "source": [
    "## Agenda\n",
    "<hr style=\"border:2px solid #0077b9;\">\n",
    "\n",
    "- A Linguagem de Programação Python.\n",
    "- Tipos de Dados Primitivos da Linguagem Python.\n",
    "- Estruturas de Controle: comandos de decisão e laços de repetição.\n",
    "- Organizando o código Através de Funções."
   ]
  },
  {
   "cell_type": "markdown",
   "metadata": {
    "slideshow": {
     "slide_type": "slide"
    }
   },
   "source": [
    "## A Linguagem de Programação Python\n",
    "<hr style=\"border:2px solid #0077b9;\">"
   ]
  },
  {
   "cell_type": "markdown",
   "metadata": {
    "slideshow": {
     "slide_type": "subslide"
    }
   },
   "source": [
    "### O que é Python?\n",
    "<hr style=\"border:2px solid #0077b9;\">\n",
    "\n",
    "- Python é uma linguagem de programação interpretada criada no início dos anos 90 por **[Guido van Rossum](https://en.wikipedia.org/wiki/Guido_van_Rossum)**.\n",
    "\n",
    "- Portabilidade: Microsoft Windows, Linux, Mac OS X.\n",
    "\n",
    "- A linguagem Python é organizada em:\n",
    "  - Core\n",
    "  - Biblioteca Padrão (*Standard Library*)"
   ]
  },
  {
   "cell_type": "markdown",
   "metadata": {
    "slideshow": {
     "slide_type": "subslide"
    }
   },
   "source": [
    "### O que é Python?\n",
    "<hr style=\"border:2px solid #0077b9;\">\n",
    "\n",
    "- O **core da linguagem** fornece um conjunto de **estruturas de dados de alto nível**: \n",
    "  - Sequências: string, tupla, listas\n",
    "  - Dicionários.\n",
    "\n",
    "- Possui um sistema de tipos dinâmico.\n",
    "\n",
    "- Não precisamos nos preocupar com a alocação e “desalocação” de memória: *garbage collector*."
   ]
  },
  {
   "cell_type": "markdown",
   "metadata": {
    "slideshow": {
     "slide_type": "subslide"
    }
   },
   "source": [
    "### O que é Python?\n",
    "<hr style=\"border:2px solid #0077b9;\">\n",
    "\n",
    "- É uma linguagem que suporta bem os **paradigmas de programação procedural** e **orientado a objetos**.\n",
    "\n",
    "- Possui alguns construtores inspirados nas **linguagens funcionais**.\n",
    "\n",
    "- Extensibilidade:\n",
    "  - Pacotes para quase todos os tipos de aplicação.\n",
    "\n",
    "- Muito utilizada como ferramenta de **[Data Science](https://en.wikipedia.org/wiki/Data_science)**."
   ]
  },
  {
   "cell_type": "markdown",
   "metadata": {
    "slideshow": {
     "slide_type": "subslide"
    }
   },
   "source": [
    "### O que é Python?\n",
    "<hr style=\"border:2px solid #0077b9;\">\n",
    "\n",
    "- Integração fácil com linguagens como C, C++, Java, ...\n",
    "\n",
    "- Amplamente difundida:\n",
    "  - Dropbox, Google, Mozilla, Walt Disney ..."
   ]
  },
  {
   "cell_type": "markdown",
   "metadata": {
    "slideshow": {
     "slide_type": "subslide"
    }
   },
   "source": [
    "### Diversas Bibliotecas para Computação Científica\n",
    "<hr style=\"border:2px solid #0077b9;\">\n",
    "\n",
    "- **NumPy:** arrays multidimensionais.\n",
    "- **SciPy:** rotinas numéricas (regressão, integração e otimização).\n",
    "- **pandas:** processmento de dados estruturados (*DataFrame*).\n",
    "- **matplotlib:** gráficos e visualização de dados.\n",
    "- **GDAL/OGR:** camada de abstração de dados geoespaciais.\n",
    "- **IPython/Jupyter Notebook:** conceito de notebook.\n",
    "- **...**"
   ]
  },
  {
   "cell_type": "markdown",
   "metadata": {
    "slideshow": {
     "slide_type": "slide"
    }
   },
   "source": [
    "## Estrutura Básica de um Programa Python\n",
    "<hr style=\"border:2px solid #0077b9;\">"
   ]
  },
  {
   "cell_type": "markdown",
   "metadata": {
    "slideshow": {
     "slide_type": "subslide"
    }
   },
   "source": [
    "## Estrutura Básica de um Programa Python\n",
    "<hr style=\"border:2px solid #0077b9;\">\n",
    "\n",
    "Vamos começar escrevendo nosso primeiro programa em Python, que irá solicitar ao usuário o valor do raio de um círculo qualquer e em seguida irá calcular seu diâmetro, circunferência e área."
   ]
  },
  {
   "cell_type": "code",
   "execution_count": 1,
   "metadata": {
    "slideshow": {
     "slide_type": "subslide"
    }
   },
   "outputs": [
    {
     "name": "stdout",
     "output_type": "stream",
     "text": [
      "Entre com o raio do círculo: 1\n",
      "2\n"
     ]
    }
   ],
   "source": [
    "import math\n",
    "\n",
    "raio = input(\"Entre com o raio do círculo: \")\n",
    "\n",
    "diametro = 2 * raio\n",
    "\n",
    "print(diametro)"
   ]
  },
  {
   "cell_type": "code",
   "execution_count": 2,
   "metadata": {
    "slideshow": {
     "slide_type": "fragment"
    }
   },
   "outputs": [
    {
     "name": "stdout",
     "output_type": "stream",
     "text": [
      "6.28318530718\n"
     ]
    }
   ],
   "source": [
    "circunferencia = 2 * math.pi * raio\n",
    "\n",
    "print(circunferencia)"
   ]
  },
  {
   "cell_type": "code",
   "execution_count": 3,
   "metadata": {
    "slideshow": {
     "slide_type": "fragment"
    }
   },
   "outputs": [
    {
     "name": "stdout",
     "output_type": "stream",
     "text": [
      "3.14159265359\n"
     ]
    }
   ],
   "source": [
    "area = math.pi * math.pow(raio, 2)\n",
    "\n",
    "print(area)"
   ]
  },
  {
   "cell_type": "markdown",
   "metadata": {
    "slideshow": {
     "slide_type": "slide"
    }
   },
   "source": [
    "## Tipos de Dados Primitivos em Python\n",
    "<hr style=\"border:2px solid #0077b9;\">\n",
    "\n",
    "O **core da linguagem** Python contém um conjunto de tipos de dados chamados de **fundamentais** ou **primitivos**, para manipulação de valores numéricos, valores lógicos (ou booleanos) e cadeias de caractere (ou sequência de caracteres)."
   ]
  },
  {
   "cell_type": "markdown",
   "metadata": {
    "slideshow": {
     "slide_type": "subslide"
    }
   },
   "source": [
    "### Tipo de Dados Lógico: `bool`\n",
    "\n",
    "Esse tipo possui apenas dois valores possíveis: **`True`** ou **`False`**."
   ]
  },
  {
   "cell_type": "code",
   "execution_count": null,
   "metadata": {
    "collapsed": true,
    "slideshow": {
     "slide_type": "fragment"
    }
   },
   "outputs": [],
   "source": [
    "l = False\n",
    "\n",
    "print(l)"
   ]
  },
  {
   "cell_type": "code",
   "execution_count": null,
   "metadata": {
    "collapsed": true,
    "slideshow": {
     "slide_type": "fragment"
    }
   },
   "outputs": [],
   "source": [
    "type(l)"
   ]
  },
  {
   "cell_type": "markdown",
   "metadata": {
    "slideshow": {
     "slide_type": "subslide"
    }
   },
   "source": [
    "#### Operadores Lógicos\n",
    "\n",
    "Em Python temos os seguintes operadores lógicos: **`and`**, **`or`** e **`not`**."
   ]
  },
  {
   "cell_type": "code",
   "execution_count": null,
   "metadata": {
    "collapsed": true,
    "slideshow": {
     "slide_type": "fragment"
    }
   },
   "outputs": [],
   "source": [
    "a = True\n",
    "b = False\n",
    "\n",
    "print(a and b)"
   ]
  },
  {
   "cell_type": "code",
   "execution_count": null,
   "metadata": {
    "collapsed": true,
    "slideshow": {
     "slide_type": "fragment"
    }
   },
   "outputs": [],
   "source": [
    "print(a or b)"
   ]
  },
  {
   "cell_type": "code",
   "execution_count": null,
   "metadata": {
    "collapsed": true,
    "slideshow": {
     "slide_type": "subslide"
    }
   },
   "outputs": [],
   "source": [
    "v = not (a or c)\n",
    "\n",
    "print(v)"
   ]
  },
  {
   "cell_type": "markdown",
   "metadata": {
    "slideshow": {
     "slide_type": "subslide"
    }
   },
   "source": [
    "### Tipos de Dados Numéricos\n",
    "\n",
    "O tipo **`int`** é capaz de representar números inteiros: $-2^{63}$ a $2^{63}-1$."
   ]
  },
  {
   "cell_type": "code",
   "execution_count": null,
   "metadata": {
    "collapsed": true,
    "slideshow": {
     "slide_type": "fragment"
    }
   },
   "outputs": [],
   "source": [
    "i = 64"
   ]
  },
  {
   "cell_type": "code",
   "execution_count": null,
   "metadata": {
    "collapsed": true,
    "slideshow": {
     "slide_type": "fragment"
    }
   },
   "outputs": [],
   "source": [
    "type(i)"
   ]
  },
  {
   "cell_type": "markdown",
   "metadata": {
    "slideshow": {
     "slide_type": "subslide"
    }
   },
   "source": [
    "### Tipos de Dados Numéricos\n",
    "\n",
    "O tipo **`long`** é outro tipo para representação de números inteiros, mas que possui **precisão estendida**."
   ]
  },
  {
   "cell_type": "code",
   "execution_count": null,
   "metadata": {
    "collapsed": true,
    "slideshow": {
     "slide_type": "fragment"
    }
   },
   "outputs": [],
   "source": [
    "ii = 64L"
   ]
  },
  {
   "cell_type": "code",
   "execution_count": null,
   "metadata": {
    "collapsed": true,
    "slideshow": {
     "slide_type": "fragment"
    }
   },
   "outputs": [],
   "source": [
    "type(ii)"
   ]
  },
  {
   "cell_type": "markdown",
   "metadata": {
    "slideshow": {
     "slide_type": "subslide"
    }
   },
   "source": [
    "### Tipos de Dados Numéricos\n",
    "\n",
    "O tipo **`float`**, também chamado de ponto flutuante, é capaz de representar números reais com\tuma\t**certa precisão numérica (64-bits)**.\t"
   ]
  },
  {
   "cell_type": "code",
   "execution_count": null,
   "metadata": {
    "collapsed": true,
    "slideshow": {
     "slide_type": "fragment"
    }
   },
   "outputs": [],
   "source": [
    "n = 12.333"
   ]
  },
  {
   "cell_type": "code",
   "execution_count": null,
   "metadata": {
    "collapsed": true,
    "slideshow": {
     "slide_type": "fragment"
    }
   },
   "outputs": [],
   "source": [
    "type(n)"
   ]
  },
  {
   "cell_type": "markdown",
   "metadata": {
    "slideshow": {
     "slide_type": "subslide"
    }
   },
   "source": [
    "#### Operadores Aritméticos\n",
    "Em Python temos os seguintes operadores aritméticos:\n",
    "\n",
    "<table style=\"font-size: 20px;\">\n",
    "<thead>\n",
    "<tr>\n",
    "<th style=\"text-align: center\">Operador</th>\n",
    "<th style=\"text-align: center\">Nome</th>\n",
    "<th style=\"text-align: center\">Expressão</th>\n",
    "<th style=\"text-align: center\">Valor</th>\n",
    "</tr>\n",
    "</thead>\n",
    "<tbody>\n",
    "<tr>\n",
    "<td style=\"text-align: center\">`+`</td>\n",
    "<td style=\"text-align: center\">soma</td>\n",
    "<td style=\"text-align: center\">`5 + 8`</td>\n",
    "<td style=\"text-align: center\">`13`</td>    \n",
    "</tr>\n",
    "<tr>\n",
    "<td style=\"text-align: center\">`-`</td>\n",
    "<td style=\"text-align: center\">subtração</td>\n",
    "<td style=\"text-align: center\">`3 - 2`</td>\n",
    "<td style=\"text-align: center\">`1`</td>    \n",
    "</tr>\n",
    "<tr>\n",
    "<td style=\"text-align: center\">`*`</td>\n",
    "<td style=\"text-align: center\">multiplicação</td>\n",
    "<td style=\"text-align: center\">`3 * 4`</td>\n",
    "<td style=\"text-align: center\">`12`</td>    \n",
    "</tr>\n",
    "<tr>\n",
    "<td style=\"text-align: center\">`/`</td>\n",
    "<td style=\"text-align: center\">divisão</td>\n",
    "<td style=\"text-align: center\">`6 / 4`</td>\n",
    "<td style=\"text-align: center\">`1`</td>    \n",
    "</tr>\n",
    "<tr>\n",
    "<td style=\"text-align: center\">`%`</td>\n",
    "<td style=\"text-align: center\">resto da divisão</td>\n",
    "<td style=\"text-align: center\">`6 % 4`</td>\n",
    "<td style=\"text-align: center\">`2`</td>    \n",
    "</tr>\n",
    "<tr>\n",
    "<td style=\"text-align: center\">`**`</td>\n",
    "<td style=\"text-align: center\">potenciação</td>\n",
    "<td style=\"text-align: center\">`2 ** 4`</td>\n",
    "<td style=\"text-align: center\">`16`</td>    \n",
    "</tr>\n",
    "</tbody>\n",
    "</table>"
   ]
  },
  {
   "cell_type": "code",
   "execution_count": null,
   "metadata": {
    "collapsed": true,
    "slideshow": {
     "slide_type": "subslide"
    }
   },
   "outputs": [],
   "source": [
    "a = 10\n",
    "b = 20\n",
    "\n",
    "a + b"
   ]
  },
  {
   "cell_type": "code",
   "execution_count": null,
   "metadata": {
    "collapsed": true,
    "slideshow": {
     "slide_type": "fragment"
    }
   },
   "outputs": [],
   "source": [
    "a * b"
   ]
  },
  {
   "cell_type": "code",
   "execution_count": null,
   "metadata": {
    "collapsed": true,
    "slideshow": {
     "slide_type": "fragment"
    }
   },
   "outputs": [],
   "source": [
    "b / a"
   ]
  },
  {
   "cell_type": "markdown",
   "metadata": {
    "slideshow": {
     "slide_type": "subslide"
    }
   },
   "source": [
    "### Tipos de Dados Textuais ou Cadeias de Caractere ou Strings"
   ]
  },
  {
   "cell_type": "code",
   "execution_count": null,
   "metadata": {
    "collapsed": true,
    "slideshow": {
     "slide_type": "fragment"
    }
   },
   "outputs": [],
   "source": [
    "str1 = 'Gilberto Ribeiro de Queiroz'\n",
    "\n",
    "str2 = \"Gilberto Ribeiro de Queiroz\""
   ]
  },
  {
   "cell_type": "code",
   "execution_count": null,
   "metadata": {
    "collapsed": true,
    "slideshow": {
     "slide_type": "fragment"
    }
   },
   "outputs": [],
   "source": [
    "type(str1)"
   ]
  },
  {
   "cell_type": "code",
   "execution_count": null,
   "metadata": {
    "collapsed": true,
    "slideshow": {
     "slide_type": "fragment"
    }
   },
   "outputs": [],
   "source": [
    "type(str2)"
   ]
  },
  {
   "cell_type": "code",
   "execution_count": null,
   "metadata": {
    "collapsed": true
   },
   "outputs": [],
   "source": [
    "nil = None       # usually used to indicate the absence of a value\n",
    "                 # common use: when default arguments are not passed to a function"
   ]
  },
  {
   "cell_type": "markdown",
   "metadata": {},
   "source": [
    "For a comprehensive list of buit-in types in Python, check [this document](https://docs.python.org/2/library/stdtypes.html)."
   ]
  },
  {
   "cell_type": "code",
   "execution_count": null,
   "metadata": {
    "collapsed": true
   },
   "outputs": [],
   "source": []
  },
  {
   "cell_type": "code",
   "execution_count": null,
   "metadata": {
    "collapsed": true,
    "slideshow": {
     "slide_type": "skip"
    }
   },
   "outputs": [],
   "source": [
    "cx = 3+2j"
   ]
  },
  {
   "cell_type": "code",
   "execution_count": null,
   "metadata": {
    "collapsed": true,
    "slideshow": {
     "slide_type": "skip"
    }
   },
   "outputs": [],
   "source": [
    "type(cx)"
   ]
  }
 ],
 "metadata": {
  "celltoolbar": "Slideshow",
  "kernelspec": {
   "display_name": "Python [geospatial]",
   "language": "python",
   "name": "geospatial"
  },
  "language_info": {
   "codemirror_mode": {
    "name": "ipython",
    "version": 2
   },
   "file_extension": ".py",
   "mimetype": "text/x-python",
   "name": "python",
   "nbconvert_exporter": "python",
   "pygments_lexer": "ipython2",
   "version": "2.7.13"
  }
 },
 "nbformat": 4,
 "nbformat_minor": 2
}
