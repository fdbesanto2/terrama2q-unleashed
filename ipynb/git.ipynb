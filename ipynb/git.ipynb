{
 "cells": [
  {
   "cell_type": "markdown",
   "metadata": {
    "slideshow": {
     "slide_type": "slide"
    }
   },
   "source": [
    "# Usando o Sistema de Controle de Versões: `git`\n",
    "<hr style=\"border:2px solid #0077b9;\">\n",
    "\n",
    "- Professores:\n",
    "  - Gilberto Ribeiro de Queiroz\n",
    "  - Thales Sehn Körting\n",
    "  - Eugênio Almeida\n",
    "- Colaboradoes:\n",
    "  - Vitor Gomes"
   ]
  },
  {
   "cell_type": "markdown",
   "metadata": {
    "slideshow": {
     "slide_type": "subslide"
    }
   },
   "source": [
    "- Criar conta no GitHub\n",
    "- Criar um repositório chamado SER411\n",
    "- Clonar repositório SER411"
   ]
  }
 ],
 "metadata": {
  "celltoolbar": "Slideshow",
  "kernelspec": {
   "display_name": "Python [conda env:geospatial]",
   "language": "python",
   "name": "conda-env-geospatial-py"
  },
  "language_info": {
   "codemirror_mode": {
    "name": "ipython",
    "version": 2
   },
   "file_extension": ".py",
   "mimetype": "text/x-python",
   "name": "python",
   "nbconvert_exporter": "python",
   "pygments_lexer": "ipython2",
   "version": "2.7.13"
  }
 },
 "nbformat": 4,
 "nbformat_minor": 2
}
