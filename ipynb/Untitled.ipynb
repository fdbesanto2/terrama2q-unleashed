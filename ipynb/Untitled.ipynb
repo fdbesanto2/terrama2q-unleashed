{
 "cells": [
  {
   "cell_type": "markdown",
   "metadata": {
    "slideshow": {
     "slide_type": "slide"
    }
   },
   "source": [
    "# Programação para Sensoriamento Remoto\n",
    "<hr style=\"border:2px solid #0077b9;\">\n",
    "\n",
    "- Professores:\n",
    "  - Gilberto Ribeiro de Queiroz\n",
    "  - Thales Körting\n",
    "  - Eugênio Almeida\n",
    "- Colaboradoes:\n",
    "  - Vitor Gomes"
   ]
  },
  {
   "cell_type": "markdown",
   "metadata": {
    "slideshow": {
     "slide_type": "slide"
    }
   },
   "source": [
    "## Objetivo\n",
    "<hr style=\"border:2px solid #0077b9;\">\n",
    "\n",
    "Criação de uma grade numérica com valores acumulados do número de focos de queimadas no ano de 2016."
   ]
  },
  {
   "cell_type": "markdown",
   "metadata": {
    "slideshow": {
     "slide_type": "slide"
    }
   },
   "source": [
    "## Dados de Entrada\n",
    "<hr style=\"border:2px solid #0077b9;\">\n",
    "\n",
    "<table style=\"font-size: 20px;\">\n",
    "<caption>Arquivo ESRI Shapefile contendo os focos de queimadas do ano de 2016.</caption>\n",
    "<tr>\n",
    "  <td>\n",
    "    <img src=\"../img/focos-2016.png\" alt=\"Focos Brasil no ano de 2016\" style=\"height: 300px;\" align=\"middle\"/>\n",
    "  </td>\n",
    "  <td>\n",
    "    <table>\n",
    "      <caption>Sensores/Satélites</caption>\n",
    "      <tbody>\n",
    "      <tr>\n",
    "        <td style=\"text-align: left\">AQUA_M-M</td>\n",
    "        <td style=\"text-align: left\">NOAA-15</td>    \n",
    "        <td style=\"text-align: left\">NOAA-19D</td>\n",
    "      </tr>\n",
    "      <tr>\n",
    "        <td style=\"text-align: left\">AQUA_M-T</td>\n",
    "        <td style=\"text-align: left\">NOAA-15D</td>    \n",
    "        <td style=\"text-align: left\">NPP</td>  \n",
    "      </tr>\n",
    "      <tr>\n",
    "        <td style=\"text-align: left\">GOES-13`</td>\n",
    "        <td style=\"text-align: left\">NOAA-18</td>\n",
    "        <td style=\"text-align: left\">NPP_375</td> \n",
    "      </tr>\n",
    "      <tr>\n",
    "        <td style=\"text-align: left\">METOP-B</td>    \n",
    "        <td style=\"text-align: left\">NOAA-18D</td>\n",
    "        <td style=\"text-align: left\">TERRA_M-M</td> \n",
    "      </tr>\n",
    "      <tr>\n",
    "        <td style=\"text-align: left\">MSG-03</td>    \n",
    "        <td style=\"text-align: left\">NOAA-19</td>\n",
    "        <td style=\"text-align: left\">TERRA_M-T</td>  \n",
    "      </tr>\n",
    "      </tbody>\n",
    "    </table>\n",
    "  </td>\n",
    "</tr>\n",
    "</table>"
   ]
  },
  {
   "cell_type": "markdown",
   "metadata": {
    "slideshow": {
     "slide_type": "slide"
    }
   },
   "source": [
    "## Estratégia\n",
    "<hr style=\"border:2px solid #0077b9;\">\n",
    "\n",
    "Iremos criar uma grade para cada um dos seguintes sensores/satélites:\n",
    "```python\n",
    "{ 'TERRA_M-M', 'TERRA_M-T', 'AQUA_M-T', 'AQUA_M-M' }\n",
    "```"
   ]
  },
  {
   "cell_type": "markdown",
   "metadata": {
    "slideshow": {
     "slide_type": "subslide"
    }
   },
   "source": [
    "## Estratégia\n",
    "<hr style=\"border:2px solid #0077b9;\">\n",
    "\n",
    "A dimensão e a resolução espacial da grade serão dadas por:\n",
    "- resolução espacial :\n",
    "```python\n",
    "{ 'xres': 0.05, 'yres': 0.05 }\n",
    "```\n",
    "- extensão espacial:\n",
    "```python\n",
    "{ 'xmin': -89.975, 'ymin': -59.975, 'xmax': -29.975, 'ymax': 10.025 }\n",
    "```\n",
    "- dimensões:\n",
    "```python\n",
    "{ 'cols': 1200, 'rows': 1400 }\n",
    "```"
   ]
  },
  {
   "cell_type": "markdown",
   "metadata": {},
   "source": [
    "```python\n",
    "Xgeo = GT(0) + Xpixel*GT(1) + Ypixel*GT(2)\n",
    "Ygeo = GT(3) + Xpixel*GT(4) + Ypixel*GT(5)\n",
    "```"
   ]
  }
 ],
 "metadata": {
  "celltoolbar": "Slideshow",
  "kernelspec": {
   "display_name": "Python [geospatial]",
   "language": "python",
   "name": "geospatial"
  },
  "language_info": {
   "codemirror_mode": {
    "name": "ipython",
    "version": 2
   },
   "file_extension": ".py",
   "mimetype": "text/x-python",
   "name": "python",
   "nbconvert_exporter": "python",
   "pygments_lexer": "ipython2",
   "version": "2.7.13"
  }
 },
 "nbformat": 4,
 "nbformat_minor": 2
}
