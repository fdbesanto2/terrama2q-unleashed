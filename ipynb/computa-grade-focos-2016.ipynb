{
 "cells": [
  {
   "cell_type": "markdown",
   "metadata": {
    "slideshow": {
     "slide_type": "slide"
    }
   },
   "source": [
    "# Programação para Sensoriamento Remoto\n",
    "<hr style=\"border:2px solid #0077b9;\">\n",
    "\n",
    "- Professores:\n",
    "  - Gilberto Ribeiro de Queiroz\n",
    "  - Thales Sehn Körting\n",
    "  - Eugênio Almeida\n",
    "- Colaboradoes:\n",
    "  - Vitor Gomes"
   ]
  },
  {
   "cell_type": "markdown",
   "metadata": {
    "slideshow": {
     "slide_type": "slide"
    }
   },
   "source": [
    "## Objetivo\n",
    "<hr style=\"border:2px solid #0077b9;\">\n",
    "\n",
    "Criar uma grade numérica com valores acumulados do número de focos de queimadas no ano de 2016."
   ]
  },
  {
   "cell_type": "markdown",
   "metadata": {
    "slideshow": {
     "slide_type": "slide"
    }
   },
   "source": [
    "## Dados de Entrada\n",
    "<hr style=\"border:2px solid #0077b9;\">\n",
    "\n",
    "<table style=\"font-size: 20px;\">\n",
    "<caption>Arquivo ESRI Shapefile contendo os focos de queimadas do ano de 2016.</caption>\n",
    "<tr>\n",
    "  <td>\n",
    "    <img src=\"../img/focos-2016.png\" alt=\"Focos Brasil no ano de 2016\" style=\"height: 300px;\" align=\"middle\"/>\n",
    "  </td>\n",
    "  <td>\n",
    "    <table>\n",
    "      <caption>Sensores/Satélites</caption>\n",
    "      <tbody>\n",
    "      <tr>\n",
    "        <td style=\"text-align: left\">AQUA_M-M</td>\n",
    "        <td style=\"text-align: left\">NOAA-15</td>    \n",
    "        <td style=\"text-align: left\">NOAA-19D</td>\n",
    "      </tr>\n",
    "      <tr>\n",
    "        <td style=\"text-align: left\">AQUA_M-T</td>\n",
    "        <td style=\"text-align: left\">NOAA-15D</td>    \n",
    "        <td style=\"text-align: left\">NPP</td>  \n",
    "      </tr>\n",
    "      <tr>\n",
    "        <td style=\"text-align: left\">GOES-13`</td>\n",
    "        <td style=\"text-align: left\">NOAA-18</td>\n",
    "        <td style=\"text-align: left\">NPP_375</td> \n",
    "      </tr>\n",
    "      <tr>\n",
    "        <td style=\"text-align: left\">METOP-B</td>    \n",
    "        <td style=\"text-align: left\">NOAA-18D</td>\n",
    "        <td style=\"text-align: left\">TERRA_M-M</td> \n",
    "      </tr>\n",
    "      <tr>\n",
    "        <td style=\"text-align: left\">MSG-03</td>    \n",
    "        <td style=\"text-align: left\">NOAA-19</td>\n",
    "        <td style=\"text-align: left\">TERRA_M-T</td>  \n",
    "      </tr>\n",
    "      </tbody>\n",
    "    </table>\n",
    "  </td>\n",
    "</tr>\n",
    "</table>"
   ]
  },
  {
   "cell_type": "markdown",
   "metadata": {
    "slideshow": {
     "slide_type": "slide"
    }
   },
   "source": [
    "## Estratégia\n",
    "<hr style=\"border:2px solid #0077b9;\">\n",
    "\n",
    "A dimensão e a resolução espacial da grade serão dadas por:\n",
    "- dimensões:\n",
    "```python\n",
    "{ 'cols': 1200, 'rows': 1400 }\n",
    "```\n",
    "\n",
    "- resolução espacial :\n",
    "```python\n",
    "{ 'xres': 0.05, 'yres': 0.05 }\n",
    "```"
   ]
  },
  {
   "cell_type": "markdown",
   "metadata": {
    "slideshow": {
     "slide_type": "subslide"
    }
   },
   "source": [
    "- extensão espacial:\n",
    "```python\n",
    "{\n",
    "  'xmin': -89.975, 'xmax': -29.975,\n",
    "  'ymin': -59.975, 'ymax': 10.025\n",
    "}\n",
    "```"
   ]
  },
  {
   "cell_type": "markdown",
   "metadata": {
    "slideshow": {
     "slide_type": "slide"
    }
   },
   "source": [
    "## Programa\n",
    "<hr style=\"border:2px solid #0077b9;\">"
   ]
  },
  {
   "cell_type": "code",
   "execution_count": null,
   "metadata": {
    "collapsed": true,
    "slideshow": {
     "slide_type": "fragment"
    }
   },
   "outputs": [],
   "source": [
    "# encoding: utf-8"
   ]
  },
  {
   "cell_type": "markdown",
   "metadata": {
    "slideshow": {
     "slide_type": "subslide"
    }
   },
   "source": [
    "### Carga de Bibliotecas\n",
    "<hr style=\"border:2px solid #0077b9;\">"
   ]
  },
  {
   "cell_type": "code",
   "execution_count": null,
   "metadata": {
    "collapsed": true,
    "slideshow": {
     "slide_type": "subslide"
    }
   },
   "outputs": [],
   "source": [
    "import sys\n",
    "\n",
    "\n",
    "# Carrega a biblioteca OS que fornece funcionalidades\n",
    "# associadas ao Sistema Operacional\n",
    "import os\n",
    "\n",
    "\n",
    "# Carrega a biblioteca NumPy para criação de matrizes\n",
    "import numpy as np"
   ]
  },
  {
   "cell_type": "markdown",
   "metadata": {
    "slideshow": {
     "slide_type": "subslide"
    }
   },
   "source": [
    "Carrega a biblioteca GDAL com seus módulos:\n",
    "- Raster\n",
    "- Vetorial\n",
    "- Sistema de Referência Espacial"
   ]
  },
  {
   "cell_type": "code",
   "execution_count": null,
   "metadata": {
    "collapsed": true,
    "slideshow": {
     "slide_type": "fragment"
    }
   },
   "outputs": [],
   "source": [
    "try:\n",
    "    from osgeo import gdal, ogr, osr\n",
    "except:\n",
    "    sys.exit(\"Erro: a biblioteca GDAL não foi encontrada!\")"
   ]
  },
  {
   "cell_type": "markdown",
   "metadata": {
    "slideshow": {
     "slide_type": "subslide"
    }
   },
   "source": [
    "Carrega as rotinas auxiliares que encontram-se definidas na mesma pasta deste programa:"
   ]
  },
  {
   "cell_type": "code",
   "execution_count": null,
   "metadata": {
    "collapsed": true,
    "slideshow": {
     "slide_type": "fragment"
    }
   },
   "outputs": [],
   "source": [
    "from utils import *"
   ]
  },
  {
   "cell_type": "markdown",
   "metadata": {
    "slideshow": {
     "slide_type": "subslide"
    }
   },
   "source": [
    "### Configurações GDAL\n",
    "<hr style=\"border:2px solid #0077b9;\">\n",
    "\n",
    "Habilita o lançamento de exceções caso alguma rotina da GDAL/OGR encontre algum erro"
   ]
  },
  {
   "cell_type": "code",
   "execution_count": null,
   "metadata": {
    "collapsed": true,
    "slideshow": {
     "slide_type": "fragment"
    }
   },
   "outputs": [],
   "source": [
    "gdal.UseExceptions()\n",
    "ogr.UseExceptions()\n",
    "osr.UseExceptions()"
   ]
  },
  {
   "cell_type": "markdown",
   "metadata": {
    "slideshow": {
     "slide_type": "subslide"
    }
   },
   "source": [
    "### Definição de constantes globais do programa\n",
    "<hr style=\"border:2px solid #0077b9;\">\n",
    "\n",
    "As associações abaixo irão facilitar modificações no programa:"
   ]
  },
  {
   "cell_type": "code",
   "execution_count": null,
   "metadata": {
    "collapsed": true,
    "slideshow": {
     "slide_type": "fragment"
    }
   },
   "outputs": [],
   "source": [
    "vector_file = \"/Users/gribeiro/Dados/Queimadas/focos/focos_2016.shp\"\n",
    "\n",
    "vector_file_base_name = os.path.basename(vector_file)\n",
    "\n",
    "layer_name = os.path.splitext(vector_file_base_name)[0]"
   ]
  },
  {
   "cell_type": "code",
   "execution_count": null,
   "metadata": {
    "collapsed": true,
    "slideshow": {
     "slide_type": "subslide"
    }
   },
   "outputs": [],
   "source": [
    "spatial_extent = { 'xmin': -89.975, 'ymin': -59.975, 'xmax': -29.975, 'ymax': 10.025 }\n",
    "\n",
    "spatial_resolution = { 'x': 0.05, 'y': 0.05 }\n",
    "\n",
    "grid_dimensions = { 'cols': 1200, 'rows': 1400 }"
   ]
  },
  {
   "cell_type": "code",
   "execution_count": null,
   "metadata": {
    "collapsed": true,
    "slideshow": {
     "slide_type": "subslide"
    }
   },
   "outputs": [],
   "source": [
    "file_format = \"GTiff\"\n",
    "\n",
    "output_file_name = \"/Users/gribeiro/Dados/Queimadas/focos/grade-2016.tiff\""
   ]
  },
  {
   "cell_type": "markdown",
   "metadata": {
    "slideshow": {
     "slide_type": "subslide"
    }
   },
   "source": [
    "### Abrindo arquivo vetorial com focos de queimada\n",
    "<hr style=\"border:2px solid #0077b9;\">\n",
    "\n",
    "\n",
    "Abre o arquivo ESRI Shapefile contendo os focos de queimada do ano de 2016"
   ]
  },
  {
   "cell_type": "code",
   "execution_count": null,
   "metadata": {
    "collapsed": true,
    "slideshow": {
     "slide_type": "fragment"
    }
   },
   "outputs": [],
   "source": [
    "shp_focos = ogr.Open(vector_file)\n",
    "\n",
    "if shp_focos is None:\n",
    "    sys.exit(\"Erro: não foi possível abrir o arquivo '{0}'.\".format(vector_file))"
   ]
  },
  {
   "cell_type": "markdown",
   "metadata": {
    "slideshow": {
     "slide_type": "subslide"
    }
   },
   "source": [
    "Recupera a camada de informação com os focos:"
   ]
  },
  {
   "cell_type": "code",
   "execution_count": null,
   "metadata": {
    "collapsed": true,
    "slideshow": {
     "slide_type": "fragment"
    }
   },
   "outputs": [],
   "source": [
    "layer_focos = shp_focos.GetLayer(layer_name)\n",
    "\n",
    "if layer_focos is None:\n",
    "    sys.exit(\"Erro: não foi possível acessar a camada '{0}' no arquivo {1}!\".format(vector_file, layer_name))"
   ]
  },
  {
   "cell_type": "markdown",
   "metadata": {
    "slideshow": {
     "slide_type": "subslide"
    }
   },
   "source": [
    "### Criando uma matriz numérica\n",
    "<hr style=\"border:2px solid #0077b9;\">"
   ]
  },
  {
   "cell_type": "code",
   "execution_count": null,
   "metadata": {
    "collapsed": true,
    "slideshow": {
     "slide_type": "fragment"
    }
   },
   "outputs": [],
   "source": [
    "matriz = np.zeros((grid_dimensions['rows'], grid_dimensions['cols']), np.int16)"
   ]
  },
  {
   "cell_type": "markdown",
   "metadata": {
    "slideshow": {
     "slide_type": "subslide"
    }
   },
   "source": [
    "### Calculando o número de focos associado a cada célula\n",
    "<hr style=\"border:2px solid #0077b9;\">\n",
    "\n",
    "Itera por cada um dos focos calculando sua localização na grade:"
   ]
  },
  {
   "cell_type": "code",
   "execution_count": null,
   "metadata": {
    "collapsed": true,
    "slideshow": {
     "slide_type": "fragment"
    }
   },
   "outputs": [],
   "source": [
    "for foco in layer_focos:\n",
    "    location = foco.GetGeometryRef()\n",
    "\n",
    "    x = location.GetX()\n",
    "    y = location.GetY()\n",
    "\n",
    "    if (x > spatial_extent[\"xmax\"]) or (y > spatial_extent[\"ymax\"]) or (x < spatial_extent[\"xmin\"]) or (y < spatial_extent[\"ymin\"]):\n",
    "        continue\n",
    "\n",
    "    col, row = Geo2Grid(location, grid_dimensions, spatial_resolution, spatial_extent)\n",
    "\n",
    "    matriz[row, col] += 1"
   ]
  },
  {
   "cell_type": "markdown",
   "metadata": {
    "slideshow": {
     "slide_type": "subslide"
    }
   },
   "source": [
    "### Criando o raster de saída\n",
    "<hr style=\"border:2px solid #0077b9;\">\n",
    "\n",
    "Cria uma fonte de dados de destino para escrever o raster em disco no formato GeoTIFF"
   ]
  },
  {
   "cell_type": "code",
   "execution_count": null,
   "metadata": {
    "collapsed": true,
    "slideshow": {
     "slide_type": "fragment"
    }
   },
   "outputs": [],
   "source": [
    "driver = gdal.GetDriverByName(file_format)\n",
    "\n",
    "if driver is None:\n",
    "    sys.exit(\"Erro: não foi possível identificar o driver '{0}'.\".format(file_format))\n",
    "\n",
    "raster = driver.Create(output_file_name,\n",
    "                       grid_dimensions['cols'], grid_dimensions['rows'],\n",
    "                       1, gdal.GDT_UInt16)\n",
    "\n",
    "if raster is None:\n",
    "    sys.exit(\"Erro: não foi possível criar o arquivo '{0}'.\".format(output_file_name))"
   ]
  },
  {
   "cell_type": "markdown",
   "metadata": {
    "slideshow": {
     "slide_type": "subslide"
    }
   },
   "source": [
    "Define os parâmetros de transformação de coordenadas:"
   ]
  },
  {
   "cell_type": "code",
   "execution_count": null,
   "metadata": {
    "collapsed": true,
    "slideshow": {
     "slide_type": "fragment"
    }
   },
   "outputs": [],
   "source": [
    "raster.SetGeoTransform((spatial_extent['xmin'], spatial_resolution['x'], 0,\n",
    "                        spatial_extent['ymax'], 0, -spatial_resolution['y']))"
   ]
  },
  {
   "cell_type": "markdown",
   "metadata": {
    "slideshow": {
     "slide_type": "subslide"
    }
   },
   "source": [
    "Usa as informações do sistema de coordenadas espacial do layer de focos na definição da grade de saída:"
   ]
  },
  {
   "cell_type": "code",
   "execution_count": null,
   "metadata": {
    "collapsed": true,
    "slideshow": {
     "slide_type": "fragment"
    }
   },
   "outputs": [],
   "source": [
    "srs_focos = layer_focos.GetSpatialRef()\n",
    "\n",
    "raster.SetProjection(srs_focos.ExportToWkt())"
   ]
  },
  {
   "cell_type": "markdown",
   "metadata": {
    "slideshow": {
     "slide_type": "subslide"
    }
   },
   "source": [
    "Acessa o objeto associado a primeira banda do raster e escreve o array NumPy na banda da GDAL:"
   ]
  },
  {
   "cell_type": "code",
   "execution_count": null,
   "metadata": {
    "collapsed": true,
    "slideshow": {
     "slide_type": "fragment"
    }
   },
   "outputs": [],
   "source": [
    "band = raster.GetRasterBand(1)\n",
    "\n",
    "band.WriteArray(matriz, 0, 0)\n",
    "\n",
    "band.FlushCache()"
   ]
  },
  {
   "cell_type": "markdown",
   "metadata": {
    "slideshow": {
     "slide_type": "subslide"
    }
   },
   "source": [
    "Garante que toda a estrutura do raster da GDAL foi desalocada:"
   ]
  },
  {
   "cell_type": "code",
   "execution_count": null,
   "metadata": {
    "collapsed": true,
    "slideshow": {
     "slide_type": "fragment"
    }
   },
   "outputs": [],
   "source": [
    "raster = None\n",
    "del raster, band"
   ]
  },
  {
   "cell_type": "markdown",
   "metadata": {
    "slideshow": {
     "slide_type": "slide"
    }
   },
   "source": [
    "## Exercícios\n",
    "<hr style=\"border:2px solid #0077b9;\">\n",
    "\n",
    "Alterar programa desse notebook python para que ele seja capaz de criar uma grade para cada um dos seguintes sensores/satélites:\n",
    "```python\n",
    "{ 'TERRA_M-M', 'TERRA_M-T', 'AQUA_M-T', 'AQUA_M-M' }\n",
    "```\n",
    "\n",
    "Dica: utilize os tipos **set** e **dicionários**!"
   ]
  },
  {
   "cell_type": "markdown",
   "metadata": {
    "slideshow": {
     "slide_type": "skip"
    }
   },
   "source": [
    "```python\n",
    "Xgeo = GT(0) + Xpixel*GT(1) + Ypixel*GT(2)\n",
    "Ygeo = GT(3) + Xpixel*GT(4) + Ypixel*GT(5)\n",
    "```"
   ]
  }
 ],
 "metadata": {
  "celltoolbar": "Slideshow",
  "kernelspec": {
   "display_name": "Python [conda env:geospatial]",
   "language": "python",
   "name": "conda-env-geospatial-py"
  },
  "language_info": {
   "codemirror_mode": {
    "name": "ipython",
    "version": 2
   },
   "file_extension": ".py",
   "mimetype": "text/x-python",
   "name": "python",
   "nbconvert_exporter": "python",
   "pygments_lexer": "ipython2",
   "version": "2.7.13"
  }
 },
 "nbformat": 4,
 "nbformat_minor": 2
}
